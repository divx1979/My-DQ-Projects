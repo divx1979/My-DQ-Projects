{
 "cells": [
  {
   "cell_type": "markdown",
   "metadata": {},
   "source": [
    "This exercise will require you to pull some data from the Qunadl API. Qaundl is currently the most widely used aggregator of financial market data."
   ]
  },
  {
   "cell_type": "markdown",
   "metadata": {},
   "source": [
    "As a first step, you will need to register a free account on the http://www.quandl.com website."
   ]
  },
  {
   "cell_type": "markdown",
   "metadata": {},
   "source": [
    "After you register, you will be provided with a unique API key, that you should store:"
   ]
  },
  {
   "cell_type": "code",
   "execution_count": 11,
   "metadata": {},
   "outputs": [],
   "source": [
    "# Note: I stored the API key in another file that wasn't added to the git repository, and read it from that file.\n",
    "with open('apikey.txt','r') as file:\n",
    "    API_KEY = file.read()"
   ]
  },
  {
   "cell_type": "markdown",
   "metadata": {},
   "source": [
    "Qaundl has a large number of data sources, but, unfortunately, most of them require a Premium subscription. Still, there are also a good number of free datasets."
   ]
  },
  {
   "cell_type": "markdown",
   "metadata": {},
   "source": [
    "For this mini project, we will focus on equities data from the Frankfurt Stock Exhange (FSE), which is available for free. We'll try and analyze the stock prices of a company called Carl Zeiss Meditec, which manufactures tools for eye examinations, as well as medical lasers for laser eye surgery: https://www.zeiss.com/meditec/int/home.html. The company is listed under the stock ticker AFX_X."
   ]
  },
  {
   "cell_type": "markdown",
   "metadata": {},
   "source": [
    "You can find the detailed Quandl API instructions here: https://docs.quandl.com/docs/time-series"
   ]
  },
  {
   "cell_type": "markdown",
   "metadata": {},
   "source": [
    "While there is a dedicated Python package for connecting to the Quandl API, we would prefer that you use the *requests* package, which can be easily downloaded using *pip* or *conda*. You can find the documentation for the package here: http://docs.python-requests.org/en/master/ "
   ]
  },
  {
   "cell_type": "markdown",
   "metadata": {},
   "source": [
    "Finally, apart from the *requests* package, you are encouraged to not use any third party Python packages, such as *pandas*, and instead focus on what's available in the Python Standard Library (the *collections* module might come in handy: https://pymotw.com/3/collections/).\n",
    "Also, since you won't have access to DataFrames, you are encouraged to us Python's native data structures - preferably dictionaries, though some questions can also be answered using lists.\n",
    "You can read more on these data structures here: https://docs.python.org/3/tutorial/datastructures.html"
   ]
  },
  {
   "cell_type": "markdown",
   "metadata": {},
   "source": [
    "Keep in mind that the JSON responses you will be getting from the API map almost one-to-one to Python's dictionaries. Unfortunately, they can be very nested, so make sure you read up on indexing dictionaries in the documentation provided above."
   ]
  },
  {
   "cell_type": "code",
   "execution_count": 12,
   "metadata": {},
   "outputs": [],
   "source": [
    "# First, import the relevant modules\n",
    "import requests\n",
    "from collections import namedtuple, OrderedDict"
   ]
  },
  {
   "cell_type": "code",
   "execution_count": 13,
   "metadata": {},
   "outputs": [
    {
     "data": {
      "text/plain": [
       "{'dataset_data': {'limit': 1,\n",
       "  'transform': None,\n",
       "  'column_index': None,\n",
       "  'column_names': ['Date',\n",
       "   'Open',\n",
       "   'High',\n",
       "   'Low',\n",
       "   'Close',\n",
       "   'Volume',\n",
       "   'Ex-Dividend',\n",
       "   'Split Ratio',\n",
       "   'Adj. Open',\n",
       "   'Adj. High',\n",
       "   'Adj. Low',\n",
       "   'Adj. Close',\n",
       "   'Adj. Volume'],\n",
       "  'start_date': '2012-05-18',\n",
       "  'end_date': '2018-03-27',\n",
       "  'frequency': 'daily',\n",
       "  'data': [['2018-03-27',\n",
       "    156.31,\n",
       "    162.85,\n",
       "    150.75,\n",
       "    152.19,\n",
       "    76787884.0,\n",
       "    0.0,\n",
       "    1.0,\n",
       "    156.31,\n",
       "    162.85,\n",
       "    150.75,\n",
       "    152.19,\n",
       "    76787884.0]],\n",
       "  'collapse': None,\n",
       "  'order': None}}"
      ]
     },
     "execution_count": 13,
     "metadata": {},
     "output_type": "execute_result"
    }
   ],
   "source": [
    "# Now, call the Quandl API and pull out a small sample of the data (only one day) to get a glimpse\n",
    "# into the JSON structure that will be returned\n",
    "parameters={'api_key': API_KEY, \"limit\":1}\n",
    "r=requests.get(\"https://www.quandl.com/api/v3/datasets/WIKI/FB/data.json\",params=parameters)\n",
    "r.json()"
   ]
  },
  {
   "cell_type": "code",
   "execution_count": 4,
   "metadata": {},
   "outputs": [
    {
     "data": {
      "text/plain": [
       "{'limit': 1,\n",
       " 'transform': None,\n",
       " 'column_index': None,\n",
       " 'column_names': ['Date',\n",
       "  'Open',\n",
       "  'High',\n",
       "  'Low',\n",
       "  'Close',\n",
       "  'Volume',\n",
       "  'Ex-Dividend',\n",
       "  'Split Ratio',\n",
       "  'Adj. Open',\n",
       "  'Adj. High',\n",
       "  'Adj. Low',\n",
       "  'Adj. Close',\n",
       "  'Adj. Volume'],\n",
       " 'start_date': '2012-05-18',\n",
       " 'end_date': '2018-03-27',\n",
       " 'frequency': 'daily',\n",
       " 'data': [['2018-03-27',\n",
       "   156.31,\n",
       "   162.85,\n",
       "   150.75,\n",
       "   152.19,\n",
       "   76787884.0,\n",
       "   0.0,\n",
       "   1.0,\n",
       "   156.31,\n",
       "   162.85,\n",
       "   150.75,\n",
       "   152.19,\n",
       "   76787884.0]],\n",
       " 'collapse': None,\n",
       " 'order': None}"
      ]
     },
     "execution_count": 4,
     "metadata": {},
     "output_type": "execute_result"
    }
   ],
   "source": [
    "# Inspect the JSON structure of the object you created, and take note of how nested it is,\n",
    "# as well as the overall structure\n",
    "r.json()['dataset_data']"
   ]
  },
  {
   "cell_type": "markdown",
   "metadata": {},
   "source": [
    "These are your tasks for this mini project:\n",
    "\n",
    "1. Collect data from the Franfurt Stock Exchange, for the ticker AFX_X, for the whole year 2017 (keep in mind that the date format is YYYY-MM-DD).\n",
    "2. Convert the returned JSON object into a Python dictionary.\n",
    "3. Calculate what the highest and lowest opening prices were for the stock in this period.\n",
    "4. What was the largest change in any one day (based on High and Low price)?\n",
    "5. What was the largest change between any two days (based on Closing Price)?\n",
    "6. What was the average daily trading volume during this year?\n",
    "7. (Optional) What was the median trading volume during this year. (Note: you may need to implement your own function for calculating the median.)"
   ]
  },
  {
   "cell_type": "markdown",
   "metadata": {},
   "source": [
    "Task 1: Collect data from FSE for AFX_X for the entire year of 2017."
   ]
  },
  {
   "cell_type": "code",
   "execution_count": 5,
   "metadata": {},
   "outputs": [],
   "source": [
    "# Parameters to pass to requests.get(); the api_key, the start and end dates, and the order of results\n",
    "parameters={'api_key': API_KEY, \"start_date\": '2017-01-01', \"end_date\": '2017-12-31', 'order': 'asc'}\n",
    "# Send get request to quandl's api url using parameters\n",
    "r=requests.get(\"https://www.quandl.com/api/v3/datasets/FSE/AFX_X/data.json\",params=parameters)"
   ]
  },
  {
   "cell_type": "markdown",
   "metadata": {},
   "source": [
    "Task 2: Convert the returned JSON object into a Python dictionary."
   ]
  },
  {
   "cell_type": "code",
   "execution_count": 6,
   "metadata": {},
   "outputs": [],
   "source": [
    "#convert json object to python dictionary\n",
    "json_dict=r.json()['dataset_data']"
   ]
  },
  {
   "cell_type": "code",
   "execution_count": 7,
   "metadata": {},
   "outputs": [
    {
     "data": {
      "text/plain": [
       "['Date',\n",
       " 'Open',\n",
       " 'High',\n",
       " 'Low',\n",
       " 'Close',\n",
       " 'Change',\n",
       " 'Traded Volume',\n",
       " 'Turnover',\n",
       " 'Last Price of the Day',\n",
       " 'Daily Traded Units',\n",
       " 'Daily Turnover']"
      ]
     },
     "execution_count": 7,
     "metadata": {},
     "output_type": "execute_result"
    }
   ],
   "source": [
    "#get column names\n",
    "column_names=json_dict['column_names']\n",
    "#view column names\n",
    "column_names"
   ]
  },
  {
   "cell_type": "markdown",
   "metadata": {},
   "source": [
    "The columns we need are 'Date', 'Open', 'High', 'Low', 'Close', and 'Traded Volume'."
   ]
  },
  {
   "cell_type": "code",
   "execution_count": 8,
   "metadata": {},
   "outputs": [
    {
     "data": {
      "text/plain": [
       "[['2017-12-27',\n",
       "  51.45,\n",
       "  51.89,\n",
       "  50.76,\n",
       "  51.82,\n",
       "  None,\n",
       "  57452.0,\n",
       "  2957018.0,\n",
       "  None,\n",
       "  None,\n",
       "  None],\n",
       " ['2017-12-28',\n",
       "  51.65,\n",
       "  51.82,\n",
       "  51.43,\n",
       "  51.6,\n",
       "  None,\n",
       "  40660.0,\n",
       "  2099024.0,\n",
       "  None,\n",
       "  None,\n",
       "  None],\n",
       " ['2017-12-29',\n",
       "  51.76,\n",
       "  51.94,\n",
       "  51.45,\n",
       "  51.76,\n",
       "  None,\n",
       "  34640.0,\n",
       "  1792304.0,\n",
       "  None,\n",
       "  None,\n",
       "  None]]"
      ]
     },
     "execution_count": 8,
     "metadata": {},
     "output_type": "execute_result"
    }
   ],
   "source": [
    "# get list of lists of per-day stock information. \n",
    "data=json_dict['data']\n",
    "# print last 3 rows\n",
    "data[-3:]"
   ]
  },
  {
   "cell_type": "code",
   "execution_count": 9,
   "metadata": {},
   "outputs": [],
   "source": [
    "# Store the data as a list of namedtuple instances (one per day of info, with fields for date, \n",
    "# opening price, daily high, daily low, closing price, and daily trading volume)\n",
    "StockInfo=namedtuple('StockInfo',['Date','Open','High','Low','Close','Traded_Volume'])\n",
    "days_list=[]\n",
    "for day in data:\n",
    "    days_list.append(StockInfo(day[0],day[1],day[2],day[3],day[4],day[6]))"
   ]
  },
  {
   "cell_type": "markdown",
   "metadata": {},
   "source": [
    "Task 3: Calculate what the highest and lowest opening prices were for the stock in this period."
   ]
  },
  {
   "cell_type": "code",
   "execution_count": 25,
   "metadata": {},
   "outputs": [
    {
     "name": "stdout",
     "output_type": "stream",
     "text": [
      "The highest opening price for the stock is $53.11.\n",
      "The lowest opening price for the stock is $34.00.\n"
     ]
    }
   ],
   "source": [
    "# Use list comprehensions to find the max and min of day.Open, filtering out None values.\n",
    "print(\"The highest opening price for the stock is $\" + \n",
    "      str(max(day.Open for day in days_list if day.Open is not None))+\".\")\n",
    "print(\"The lowest opening price for the stock is $\" + \n",
    "      str(min(day.Open for day in days_list if day.Open is not None))+\"0.\")"
   ]
  },
  {
   "cell_type": "markdown",
   "metadata": {},
   "source": [
    "Task 4: What was the largest change in any one day (based on High and Low price)?"
   ]
  },
  {
   "cell_type": "code",
   "execution_count": 26,
   "metadata": {},
   "outputs": [
    {
     "name": "stdout",
     "output_type": "stream",
     "text": [
      "The largest change in any one day was $2.81.\n"
     ]
    }
   ],
   "source": [
    "# List comprehension to find the biggest one-day change.\n",
    "print(\"The largest change in any one day was $\" + str(round(max(day.High-day.Low for day in days_list),2))+\".\")"
   ]
  },
  {
   "cell_type": "markdown",
   "metadata": {},
   "source": [
    "Task 5: What was the largest change between any two days (based on Closing Price)?"
   ]
  },
  {
   "cell_type": "code",
   "execution_count": 18,
   "metadata": {},
   "outputs": [
    {
     "name": "stdout",
     "output_type": "stream",
     "text": [
      "The largest change between any two days was $2.56.\n"
     ]
    }
   ],
   "source": [
    "# The Quandl API has a parameter 'transform' that lets us calculate the day-by-day change in any of the \n",
    "# numeric columns, so we pull the change in the 5th column 'Close'. \n",
    "parameters={'api_key': API_KEY, \n",
    "            \"start_date\": '2017-01-01', \n",
    "            \"end_date\": '2017-12-31', \n",
    "            'order': 'asc', \n",
    "            'transform':'diff',\n",
    "            'column_index':4}\n",
    "r2=requests.get(\"https://www.quandl.com/api/v3/datasets/FSE/AFX_X/data.json\",params=parameters)\n",
    "# We then find the maximum absolute value of change for that column using list comprehension. \n",
    "print(\"The largest change between any two days was $\" +\n",
    "      str(max((abs(i[1])) for i in r2.json()['dataset_data']['data']))+\".\")"
   ]
  },
  {
   "cell_type": "markdown",
   "metadata": {},
   "source": [
    "6. What was the average daily trading volume during this year?"
   ]
  },
  {
   "cell_type": "code",
   "execution_count": 21,
   "metadata": {},
   "outputs": [
    {
     "name": "stdout",
     "output_type": "stream",
     "text": [
      "The average daily trading volume during this year was $89124.33725490196\n"
     ]
    }
   ],
   "source": [
    "# Sum together the Traded_Volume values found in each StockInfo namedtuple, \n",
    "# then divide by the length of the list of namedtuples\n",
    "print(\"The average daily trading volume during this year was $\" +\n",
    "      str(sum(day.Traded_Volume for day in days_list)/len(days_list)))"
   ]
  },
  {
   "cell_type": "markdown",
   "metadata": {},
   "source": [
    "7. What was the median trading volume during this year?"
   ]
  },
  {
   "cell_type": "code",
   "execution_count": 24,
   "metadata": {},
   "outputs": [
    {
     "name": "stdout",
     "output_type": "stream",
     "text": [
      "The median trading volume during this year was $76600.00.\n"
     ]
    }
   ],
   "source": [
    "# A function that calculates the median value for any column in the time-series data.\n",
    "# daylist is a list of StockInfo namedtuple objects\n",
    "# fieldname is the column we want to find the median value for\n",
    "def median_val(daylist, fieldname):\n",
    "    list_to_sort=[]\n",
    "    index_num=daylist[0]._fields.index(fieldname) #find the index number of 'fieldname'\n",
    "    for d in daylist: # creates the list of values for the specified fieldname\n",
    "        if d[index_num] is not None:\n",
    "            list_to_sort.append(d[index_num]) \n",
    "    list_to_sort.sort() # sorts the list of values\n",
    "    if len(list_to_sort)%2==1: # when length is odd, finds the value in the middle of the list and returns it\n",
    "        med_ind=len(list_to_sort)//2+1\n",
    "        return list_to_sort[med_ind]\n",
    "    else: # when length is even, averages the two values in the middle of the list\n",
    "        med_ind=len(list_to_sort)//2\n",
    "        med_val=(list_to_sort[med_ind-1]+list_to_sort[med_ind])/2\n",
    "        return med_val\n",
    "print(\"The median trading volume during this year was $\"+\n",
    "      str(median_val(days_list, 'Traded_Volume'))+\"0.\")\n"
   ]
  }
 ],
 "metadata": {
  "kernelspec": {
   "display_name": "Python 3",
   "language": "python",
   "name": "python3"
  },
  "language_info": {
   "codemirror_mode": {
    "name": "ipython",
    "version": 3
   },
   "file_extension": ".py",
   "mimetype": "text/x-python",
   "name": "python",
   "nbconvert_exporter": "python",
   "pygments_lexer": "ipython3",
   "version": "3.7.1"
  }
 },
 "nbformat": 4,
 "nbformat_minor": 2
}
